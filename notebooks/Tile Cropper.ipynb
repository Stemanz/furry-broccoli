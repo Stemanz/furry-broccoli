{
 "cells": [
  {
   "cell_type": "code",
   "execution_count": 7,
   "metadata": {},
   "outputs": [],
   "source": [
    "# author: Lino Grossano lino.grossano@gmail.com\n",
    "# author: Stefano Manzini stefano.manzini@gmail.com\n",
    "from PIL import Image\n",
    "from pathlib import Path\n",
    "from glob import glob\n",
    "import os\n",
    "import numpy as np"
   ]
  },
  {
   "cell_type": "code",
   "execution_count": 8,
   "metadata": {},
   "outputs": [],
   "source": [
    "image_name = \"wallhaven-g78rvl.jpg\"\n",
    "folder_name = \"imgs_to_crop\""
   ]
  },
  {
   "cell_type": "code",
   "execution_count": 9,
   "metadata": {},
   "outputs": [],
   "source": [
    "def load_pic(image_name, folder_name):\n",
    "    \n",
    "    \"\"\"\n",
    "    Assumes a subdirectory <folder name> containing the\n",
    "    image <image_name> to load.\n",
    "    \n",
    "    params\n",
    "    ======\n",
    "    \n",
    "    image_name: <str>\n",
    "    folder_name: <str>\n",
    "    \"\"\"\n",
    "    \n",
    "    fullpath = Path(folder_name, image_name)\n",
    "    picture = Image.open(fullpath)\n",
    "    return picture"
   ]
  },
  {
   "cell_type": "code",
   "execution_count": 10,
   "metadata": {},
   "outputs": [],
   "source": [
    "def crop_in_tiles_and_save(\n",
    "    image, img_filename=None, tile_size=28, shift=0, img_type=\"jpg\",\n",
    "    ):\n",
    "    \n",
    "    \"\"\"\n",
    "    this function crops an image in several tiles; every tile\n",
    "    is a square of *tile_size* pixels. *shift* = 0 crops the image\n",
    "    from coordinates (0,0), while *shift* = tile_size/2\n",
    "    (or other values) crops tiles that overlaps edges.\n",
    "    Every set of tiles is saved in a separate folder.\n",
    "    \n",
    "    \n",
    "    params\n",
    "    ======\n",
    "    \n",
    "    image: a Pillow open image\n",
    "    img_filename: <str> name of the input image. If None, we try to get it\n",
    "    tile_size: <int> pixels; size of the tile side\n",
    "    shift: <int>: the offset from 0,0 in pixels\n",
    "    img_type: <str>: desired output filename\n",
    "    \"\"\"\n",
    "    \n",
    "    assert isinstance(tile_size, int)\n",
    "    assert isinstance(shift, int)\n",
    "    assert isinstance(img_type, str)\n",
    "    \n",
    "    if img_filename is None:\n",
    "        try: # for UNIX:\n",
    "            rev_pos = image.filename[::-1].find(\"/\")\n",
    "            if rev_pos == -1:\n",
    "                raise TypeError # we're on Windows            \n",
    "            pos = len(image.filename) - rev_pos\n",
    "            img_filename = image.filename[pos:]\n",
    "        except: # for Windows:\n",
    "            rev_pos = image.filename[::-1].find(\"\\\\\")\n",
    "            pos = len(image.filename) - rev_pos\n",
    "            img_filename = image.filename[pos:]\n",
    "        \n",
    "        try:\n",
    "            assert \".\" in img_filename\n",
    "            assert len(img_filename) > 1\n",
    "        except:\n",
    "            print(\"**Warning**: something went wrong guessing the image filename.\")\n",
    "            print(f\"I think this is the image name: {img_filename}\")\n",
    "            print(f\"This is the full path: {image.filename}\")\n",
    "            img_filename = \"image.jpg\"\n",
    "    \n",
    "    width, height = image.size\n",
    "       \n",
    "    folder = Path(img_filename + \"_tiles\")\n",
    "    folder.mkdir(exist_ok=True) #skip errors if folder already exists\n",
    "    storing_folder = str(folder)\n",
    "\n",
    "    #calculate coordinates of every tile\n",
    "    for x in range (0+shift, width, tile_size):\n",
    "        if width - x < tile_size:\n",
    "            continue\n",
    "            \n",
    "        for y in range (0+shift, height, tile_size):\n",
    "            if height - y < tile_size:\n",
    "                continue\n",
    "            \n",
    "            # tile coord ===\n",
    "            tile_coord = (\n",
    "                x, y, # upper left coords\n",
    "                x + tile_size, y + tile_size # lower right coords\n",
    "            )\n",
    "            \n",
    "            # output filename and path ===\n",
    "            xcoord = \"%04d\" % x\n",
    "            ycoord = \"%04d\" % y\n",
    "            offset = \"\" if shift == 0 else str(shift)\n",
    "            outfile_name = f\"{img_filename}_{xcoord}_{ycoord}_offset_{offset}.{img_type}\"\n",
    "            full_outpath =  Path(storing_folder, outfile_name)\n",
    "            \n",
    "            image.crop(tile_coord).save(full_outpath)"
   ]
  },
  {
   "cell_type": "code",
   "execution_count": 11,
   "metadata": {},
   "outputs": [],
   "source": [
    "def crop_in_tiles(\n",
    "    image, tile_size=28, shift=0):\n",
    "    \n",
    "    \"\"\"\n",
    "    This function crops an image in several tiles\n",
    "    tile_size × tile_size squares, yielding a tile\n",
    "    every iteration.\n",
    "    \n",
    "    If the input image is not a perfect multiple of\n",
    "    a(tile_size) × b(tile_size), non-square tiles are NOT\n",
    "    YIELDED.\n",
    "    \n",
    "    params\n",
    "    ======\n",
    "    \n",
    "    image: a Pillow open image\n",
    "    tile_size: <int> pixels; size of the tile side\n",
    "    shift: <int>: the offset from 0,0 in pixels\n",
    "    \"\"\"\n",
    "    \n",
    "    assert isinstance(tile_size, int)\n",
    "    assert isinstance(shift, int)\n",
    "    \n",
    "    width, height = image.size\n",
    "       \n",
    "    #calculate coordinates of every tile\n",
    "    for x in range (0+shift, width, tile_size):\n",
    "        if width - x < tile_size:\n",
    "            continue\n",
    "            \n",
    "        for y in range (0+shift, height, tile_size):\n",
    "            if height - y < tile_size:\n",
    "                continue\n",
    "            \n",
    "            # tile coord ===\n",
    "            tile_coord = (\n",
    "                x, y, # upper left coords\n",
    "                x + tile_size, y + tile_size # lower right coords\n",
    "            )\n",
    "            \n",
    "            tile = image.crop(tile_coord)\n",
    "            yield tile"
   ]
  },
  {
   "cell_type": "code",
   "execution_count": 12,
   "metadata": {},
   "outputs": [],
   "source": [
    "pic = load_pic(image_name, folder_name)"
   ]
  },
  {
   "cell_type": "code",
   "execution_count": 13,
   "metadata": {},
   "outputs": [],
   "source": [
    "crop_in_tiles_and_save(pic) # 3942 files (OK!)"
   ]
  },
  {
   "cell_type": "code",
   "execution_count": 14,
   "metadata": {},
   "outputs": [],
   "source": [
    "class Dataset:\n",
    "\n",
    "    def __init__(self, folder_name, tile_size=28, clean_tag=\"ISO200\", noise_tag=\"ISO1600\"):\n",
    "        self.folder_name = folder_name\n",
    "        self.tile_size = tile_size\n",
    "        \n",
    "        \n",
    "        # loading image names from dataset directory ===\n",
    "        # for Python < 3.10 with limited glob functionality\n",
    "        self.basedir = Path(os.getcwd())\n",
    "        os.chdir(folder_name)\n",
    "        img_files = glob(\"*.JPG\")\n",
    "        os.chdir(self.basedir)\n",
    "        \n",
    "        self.clean_pics_filenames = sorted([x for x in img_files if clean_tag in x])\n",
    "        self.noise_pics_filenames = sorted([x for x in img_files if noise_tag in x])\n",
    "        \n",
    "        assert len(self.clean_pics_filenames) == len(self.noise_pics_filenames)\n",
    "        \n",
    "        self.clean_pics = [self._load_pic(x, folder_name) for x in self.clean_pics_filenames]\n",
    "        self.noise_pics = [self._load_pic(x, folder_name) for x in self.noise_pics_filenames]\n",
    "\n",
    "    \n",
    "    def _load_pic(self, image_name, folder_name):\n",
    "\n",
    "        \"\"\"\n",
    "        Assumes a subdirectory <folder name> containing the\n",
    "        image <image_name> to load.\n",
    "\n",
    "        params\n",
    "        ======\n",
    "\n",
    "        image_name: <str>\n",
    "        folder_name: <str>\n",
    "        \"\"\"\n",
    "\n",
    "        fullpath = Path(folder_name, image_name)\n",
    "        picture = Image.open(fullpath)\n",
    "        return picture\n",
    "    \n",
    "\n",
    "    def _crop_in_tiles(self, image, tile_size=28, shift=0):\n",
    "\n",
    "        \"\"\"\n",
    "        This function crops an image in several tiles\n",
    "        tile_size × tile_size squares, yielding a tile\n",
    "        every iteration.\n",
    "\n",
    "        If the input image is not a perfect multiple of\n",
    "        a(tile_size) × b(tile_size), non-square tiles are NOT\n",
    "        YIELDED.\n",
    "\n",
    "        params\n",
    "        ======\n",
    "\n",
    "        image: a Pillow open image\n",
    "        tile_size: <int> pixels; size of the tile side\n",
    "        shift: <int>: the offset from 0,0 in pixels\n",
    "        \"\"\"\n",
    "\n",
    "        assert isinstance(tile_size, int)\n",
    "        assert isinstance(shift, int)\n",
    "\n",
    "        width, height = image.size\n",
    "\n",
    "        #calculate coordinates of every tile\n",
    "        for x in range (0+shift, width, tile_size):\n",
    "            if width - x < tile_size:\n",
    "                continue\n",
    "\n",
    "            for y in range (0+shift, height, tile_size):\n",
    "                if height - y < tile_size:\n",
    "                    continue\n",
    "\n",
    "                # tile coord ===\n",
    "                tile_coord = (\n",
    "                    x, y, # upper left coords\n",
    "                    x + tile_size, y + tile_size # lower right coords\n",
    "                )\n",
    "\n",
    "                tile = image.crop(tile_coord)\n",
    "                yield tile\n",
    "        \n",
    "\n",
    "    def _split_into_channels(self, image, as_array=False):\n",
    "        \n",
    "        if not as_array:\n",
    "            return [image.getchannel(x) for x in \"RGB\"]\n",
    "        else:\n",
    "            return [np.array(image.getchannel(x)) for x in \"RGB\"]\n",
    "    \n",
    "\n",
    "    def make_dataset(self):        \n",
    "        # these will store tile1_R, tile1_G, tile1_B, tile2_R, tile2_G, ..\n",
    "        self.clean_tiles_ = []\n",
    "        self.noise_tiles_ = []\n",
    "        \n",
    "        for clean in self.clean_pics:\n",
    "            tiles = self._crop_in_tiles(clean, tile_size=self.tile_size,)\n",
    "            for tile in tiles:\n",
    "                self.clean_tiles_.extend(self._split_into_channels(tile, as_array=True))\n",
    "        \n",
    "        for noise in self.noise_pics:\n",
    "            tiles = self._crop_in_tiles(noise, tile_size=self.tile_size,)\n",
    "            for tile in tiles:\n",
    "                self.noise_tiles_.extend(self._split_into_channels(tile, as_array=True))"
   ]
  },
  {
   "cell_type": "code",
   "execution_count": 15,
   "metadata": {},
   "outputs": [],
   "source": [
    "ds = Dataset(\"standard_dataset\", tile_size=56)"
   ]
  },
  {
   "cell_type": "code",
   "execution_count": 16,
   "metadata": {},
   "outputs": [
    {
     "data": {
      "text/plain": [
       "['dataset_0001_ISO200.JPG',\n",
       " 'dataset_0002_ISO200.JPG',\n",
       " 'dataset_0003_ISO200.JPG',\n",
       " 'dataset_0004_ISO200.JPG',\n",
       " 'dataset_0005_ISO200.JPG',\n",
       " 'dataset_0006_ISO200.JPG',\n",
       " 'dataset_0007_ISO200.JPG',\n",
       " 'dataset_0008_ISO200.JPG']"
      ]
     },
     "execution_count": 16,
     "metadata": {},
     "output_type": "execute_result"
    }
   ],
   "source": [
    "ds.clean_pics_filenames"
   ]
  },
  {
   "cell_type": "code",
   "execution_count": 17,
   "metadata": {},
   "outputs": [
    {
     "data": {
      "text/plain": [
       "['dataset_0001_ISO1600.JPG',\n",
       " 'dataset_0002_ISO1600.JPG',\n",
       " 'dataset_0003_ISO1600.JPG',\n",
       " 'dataset_0004_ISO1600.JPG',\n",
       " 'dataset_0005_ISO1600.JPG',\n",
       " 'dataset_0006_ISO1600.JPG',\n",
       " 'dataset_0007_ISO1600.JPG',\n",
       " 'dataset_0008_ISO1600.JPG']"
      ]
     },
     "execution_count": 17,
     "metadata": {},
     "output_type": "execute_result"
    }
   ],
   "source": [
    "ds.noise_pics_filenames"
   ]
  },
  {
   "cell_type": "code",
   "execution_count": 18,
   "metadata": {},
   "outputs": [],
   "source": [
    "ds.make_dataset()"
   ]
  },
  {
   "cell_type": "code",
   "execution_count": 19,
   "metadata": {},
   "outputs": [
    {
     "data": {
      "text/plain": [
       "134688"
      ]
     },
     "execution_count": 19,
     "metadata": {},
     "output_type": "execute_result"
    }
   ],
   "source": [
    "len(ds.clean_tiles_)"
   ]
  },
  {
   "cell_type": "code",
   "execution_count": 20,
   "metadata": {},
   "outputs": [
    {
     "data": {
      "text/plain": [
       "134688"
      ]
     },
     "execution_count": 20,
     "metadata": {},
     "output_type": "execute_result"
    }
   ],
   "source": [
    "len(ds.noise_tiles_)"
   ]
  },
  {
   "cell_type": "code",
   "execution_count": 21,
   "metadata": {},
   "outputs": [],
   "source": [
    "tile = ds.noise_tiles_[0]"
   ]
  },
  {
   "cell_type": "code",
   "execution_count": 22,
   "metadata": {},
   "outputs": [
    {
     "data": {
      "text/plain": [
       "array([[ 5,  6, 13, ..., 38, 36, 32],\n",
       "       [ 5,  8, 17, ..., 36, 38, 41],\n",
       "       [16, 20, 27, ..., 40, 39, 38],\n",
       "       ...,\n",
       "       [29, 29, 35, ..., 42, 49, 51],\n",
       "       [29, 33, 36, ..., 40, 33, 41],\n",
       "       [27, 29, 34, ..., 37, 23, 31]], dtype=uint8)"
      ]
     },
     "execution_count": 22,
     "metadata": {},
     "output_type": "execute_result"
    }
   ],
   "source": [
    "tile"
   ]
  },
  {
   "cell_type": "code",
   "execution_count": 23,
   "metadata": {},
   "outputs": [
    {
     "data": {
      "text/plain": [
       "(56, 56)"
      ]
     },
     "execution_count": 23,
     "metadata": {},
     "output_type": "execute_result"
    }
   ],
   "source": [
    "tile.shape"
   ]
  },
  {
   "cell_type": "code",
   "execution_count": 24,
   "metadata": {},
   "outputs": [],
   "source": [
    "#ghe sem!"
   ]
  }
 ],
 "metadata": {
  "kernelspec": {
   "display_name": "Python 3",
   "language": "python",
   "name": "python3"
  },
  "language_info": {
   "codemirror_mode": {
    "name": "ipython",
    "version": 3
   },
   "file_extension": ".py",
   "mimetype": "text/x-python",
   "name": "python",
   "nbconvert_exporter": "python",
   "pygments_lexer": "ipython3",
   "version": "3.7.3"
  }
 },
 "nbformat": 4,
 "nbformat_minor": 5
}
